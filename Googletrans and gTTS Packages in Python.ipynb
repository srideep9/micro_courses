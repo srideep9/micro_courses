{
 "cells": [
  {
   "cell_type": "markdown",
   "id": "e285101b",
   "metadata": {},
   "source": [
    "# Googletrans and gTTS Packages in Python\n",
    "\n",
    "Google Translate is an incredibly useful application that allows users to translate from one language to another. We are able to use the functions of Google Translate in python through the Googletrans package.\n",
    "\n",
    "Googletrans is a python library that implements Google's Google Translate API.\n",
    "\n",
    "It allows basic Google Translate functions including:\n",
    "\n",
    "- Language Translation\n",
    "- Language Detection\n",
    "\n",
    "In this micro course, you will learn to use this package to perform these two functions. Then, you will learn how to use the gTTS package's text to speech conversion."
   ]
  },
  {
   "cell_type": "markdown",
   "id": "15533e78",
   "metadata": {},
   "source": [
    "### 1. Installation and Initial Steps\n",
    "\n",
    "Before you can use the _googletrans_ package, you must install it. This can be done using the pip install command."
   ]
  },
  {
   "cell_type": "code",
   "execution_count": 1,
   "id": "d3ec6759",
   "metadata": {},
   "outputs": [
    {
     "name": "stdout",
     "output_type": "stream",
     "text": [
      "Requirement already satisfied: googletrans==3.1.0a0 in ./opt/anaconda3/lib/python3.9/site-packages (3.1.0a0)\r\n",
      "Requirement already satisfied: httpx==0.13.3 in ./opt/anaconda3/lib/python3.9/site-packages (from googletrans==3.1.0a0) (0.13.3)\r\n",
      "Requirement already satisfied: sniffio in ./opt/anaconda3/lib/python3.9/site-packages (from httpx==0.13.3->googletrans==3.1.0a0) (1.2.0)\r\n",
      "Requirement already satisfied: certifi in ./opt/anaconda3/lib/python3.9/site-packages (from httpx==0.13.3->googletrans==3.1.0a0) (2021.10.8)\r\n",
      "Requirement already satisfied: hstspreload in ./opt/anaconda3/lib/python3.9/site-packages (from httpx==0.13.3->googletrans==3.1.0a0) (2022.7.10)\r\n",
      "Requirement already satisfied: httpcore==0.9.* in ./opt/anaconda3/lib/python3.9/site-packages (from httpx==0.13.3->googletrans==3.1.0a0) (0.9.1)\r\n",
      "Requirement already satisfied: idna==2.* in ./opt/anaconda3/lib/python3.9/site-packages (from httpx==0.13.3->googletrans==3.1.0a0) (2.10)\r\n",
      "Requirement already satisfied: rfc3986<2,>=1.3 in ./opt/anaconda3/lib/python3.9/site-packages (from httpx==0.13.3->googletrans==3.1.0a0) (1.5.0)\r\n",
      "Requirement already satisfied: chardet==3.* in ./opt/anaconda3/lib/python3.9/site-packages (from httpx==0.13.3->googletrans==3.1.0a0) (3.0.4)\r\n",
      "Requirement already satisfied: h11<0.10,>=0.8 in ./opt/anaconda3/lib/python3.9/site-packages (from httpcore==0.9.*->httpx==0.13.3->googletrans==3.1.0a0) (0.9.0)\r\n",
      "Requirement already satisfied: h2==3.* in ./opt/anaconda3/lib/python3.9/site-packages (from httpcore==0.9.*->httpx==0.13.3->googletrans==3.1.0a0) (3.2.0)\r\n",
      "Requirement already satisfied: hyperframe<6,>=5.2.0 in ./opt/anaconda3/lib/python3.9/site-packages (from h2==3.*->httpcore==0.9.*->httpx==0.13.3->googletrans==3.1.0a0) (5.2.0)\r\n",
      "Requirement already satisfied: hpack<4,>=3.0 in ./opt/anaconda3/lib/python3.9/site-packages (from h2==3.*->httpcore==0.9.*->httpx==0.13.3->googletrans==3.1.0a0) (3.0.0)\r\n"
     ]
    }
   ],
   "source": [
    "# Installs googletrans package\n",
    "!pip install googletrans==3.1.0a0"
   ]
  },
  {
   "cell_type": "code",
   "execution_count": 2,
   "id": "3c12fdc7",
   "metadata": {},
   "outputs": [],
   "source": [
    "# Import the package\n",
    "import googletrans\n",
    "from googletrans import *"
   ]
  },
  {
   "cell_type": "code",
   "execution_count": 3,
   "id": "43f27b6e",
   "metadata": {},
   "outputs": [],
   "source": [
    "# Create an instance of the Translator Class and assign it to the variable translator\n",
    "translator = Translator()"
   ]
  },
  {
   "cell_type": "markdown",
   "id": "098a6374",
   "metadata": {},
   "source": [
    "This library stores its available languages in a dictionary. The keys are two letter abbreviations of the languages. When referencing the languages in the code, these keys can be used to make your code shorter."
   ]
  },
  {
   "cell_type": "code",
   "execution_count": 4,
   "id": "dc66eb99",
   "metadata": {},
   "outputs": [
    {
     "data": {
      "text/plain": [
       "{'af': 'afrikaans',\n",
       " 'sq': 'albanian',\n",
       " 'am': 'amharic',\n",
       " 'ar': 'arabic',\n",
       " 'hy': 'armenian',\n",
       " 'az': 'azerbaijani',\n",
       " 'eu': 'basque',\n",
       " 'be': 'belarusian',\n",
       " 'bn': 'bengali',\n",
       " 'bs': 'bosnian',\n",
       " 'bg': 'bulgarian',\n",
       " 'ca': 'catalan',\n",
       " 'ceb': 'cebuano',\n",
       " 'ny': 'chichewa',\n",
       " 'zh-cn': 'chinese (simplified)',\n",
       " 'zh-tw': 'chinese (traditional)',\n",
       " 'co': 'corsican',\n",
       " 'hr': 'croatian',\n",
       " 'cs': 'czech',\n",
       " 'da': 'danish',\n",
       " 'nl': 'dutch',\n",
       " 'en': 'english',\n",
       " 'eo': 'esperanto',\n",
       " 'et': 'estonian',\n",
       " 'tl': 'filipino',\n",
       " 'fi': 'finnish',\n",
       " 'fr': 'french',\n",
       " 'fy': 'frisian',\n",
       " 'gl': 'galician',\n",
       " 'ka': 'georgian',\n",
       " 'de': 'german',\n",
       " 'el': 'greek',\n",
       " 'gu': 'gujarati',\n",
       " 'ht': 'haitian creole',\n",
       " 'ha': 'hausa',\n",
       " 'haw': 'hawaiian',\n",
       " 'iw': 'hebrew',\n",
       " 'he': 'hebrew',\n",
       " 'hi': 'hindi',\n",
       " 'hmn': 'hmong',\n",
       " 'hu': 'hungarian',\n",
       " 'is': 'icelandic',\n",
       " 'ig': 'igbo',\n",
       " 'id': 'indonesian',\n",
       " 'ga': 'irish',\n",
       " 'it': 'italian',\n",
       " 'ja': 'japanese',\n",
       " 'jw': 'javanese',\n",
       " 'kn': 'kannada',\n",
       " 'kk': 'kazakh',\n",
       " 'km': 'khmer',\n",
       " 'ko': 'korean',\n",
       " 'ku': 'kurdish (kurmanji)',\n",
       " 'ky': 'kyrgyz',\n",
       " 'lo': 'lao',\n",
       " 'la': 'latin',\n",
       " 'lv': 'latvian',\n",
       " 'lt': 'lithuanian',\n",
       " 'lb': 'luxembourgish',\n",
       " 'mk': 'macedonian',\n",
       " 'mg': 'malagasy',\n",
       " 'ms': 'malay',\n",
       " 'ml': 'malayalam',\n",
       " 'mt': 'maltese',\n",
       " 'mi': 'maori',\n",
       " 'mr': 'marathi',\n",
       " 'mn': 'mongolian',\n",
       " 'my': 'myanmar (burmese)',\n",
       " 'ne': 'nepali',\n",
       " 'no': 'norwegian',\n",
       " 'or': 'odia',\n",
       " 'ps': 'pashto',\n",
       " 'fa': 'persian',\n",
       " 'pl': 'polish',\n",
       " 'pt': 'portuguese',\n",
       " 'pa': 'punjabi',\n",
       " 'ro': 'romanian',\n",
       " 'ru': 'russian',\n",
       " 'sm': 'samoan',\n",
       " 'gd': 'scots gaelic',\n",
       " 'sr': 'serbian',\n",
       " 'st': 'sesotho',\n",
       " 'sn': 'shona',\n",
       " 'sd': 'sindhi',\n",
       " 'si': 'sinhala',\n",
       " 'sk': 'slovak',\n",
       " 'sl': 'slovenian',\n",
       " 'so': 'somali',\n",
       " 'es': 'spanish',\n",
       " 'su': 'sundanese',\n",
       " 'sw': 'swahili',\n",
       " 'sv': 'swedish',\n",
       " 'tg': 'tajik',\n",
       " 'ta': 'tamil',\n",
       " 'te': 'telugu',\n",
       " 'th': 'thai',\n",
       " 'tr': 'turkish',\n",
       " 'uk': 'ukrainian',\n",
       " 'ur': 'urdu',\n",
       " 'ug': 'uyghur',\n",
       " 'uz': 'uzbek',\n",
       " 'vi': 'vietnamese',\n",
       " 'cy': 'welsh',\n",
       " 'xh': 'xhosa',\n",
       " 'yi': 'yiddish',\n",
       " 'yo': 'yoruba',\n",
       " 'zu': 'zulu'}"
      ]
     },
     "execution_count": 4,
     "metadata": {},
     "output_type": "execute_result"
    }
   ],
   "source": [
    "# Display the dictionary of available languages\n",
    "googletrans.LANGUAGES"
   ]
  },
  {
   "cell_type": "markdown",
   "id": "5627c58b",
   "metadata": {},
   "source": [
    "### 2. Language Detection\n",
    "\n",
    "The _googletrans_ package allows users to detect the language of a string. This is done using the _detect()_ method. The _detect()_ method will return the most likely language as well as the confidence level, or the probability, that the language is correct."
   ]
  },
  {
   "cell_type": "code",
   "execution_count": 5,
   "id": "42a872ad",
   "metadata": {},
   "outputs": [
    {
     "name": "stdout",
     "output_type": "stream",
     "text": [
      "Detected(lang=es, confidence=1)\n",
      "Detected(lang=en, confidence=1)\n"
     ]
    }
   ],
   "source": [
    "spanishText = \"¿Hola, cómo estás?\"\n",
    "englishText = \"Hello, how are you doing?\"\n",
    "\n",
    "# Detect method used to detect the language of the string variables\n",
    "print(translator.detect(spanishText))\n",
    "print(translator.detect(englishText))"
   ]
  },
  {
   "cell_type": "markdown",
   "id": "bbdecdf6",
   "metadata": {},
   "source": [
    "#### Exercise:\n",
    "\n",
    "Use the detect method to detect the language of the phrase \"Привет, как твои дела сегодня?\" and print the language."
   ]
  },
  {
   "cell_type": "code",
   "execution_count": 6,
   "id": "79d5c20f",
   "metadata": {},
   "outputs": [],
   "source": [
    "# Write your code here:\n"
   ]
  },
  {
   "cell_type": "code",
   "execution_count": 7,
   "id": "38cf23dd",
   "metadata": {
    "hide_input": true
   },
   "outputs": [
    {
     "name": "stdout",
     "output_type": "stream",
     "text": [
      "Detected(lang=ru, confidence=1)\n"
     ]
    }
   ],
   "source": [
    "# Solution\n",
    "\n",
    "print(translator.detect(\"Привет, как твои дела сегодня?\"))"
   ]
  },
  {
   "cell_type": "markdown",
   "id": "412ee047",
   "metadata": {},
   "source": [
    "### 3. Language Translation\n",
    "\n",
    "The googletrans package also allows you to translate languages. This function is performed by the _translate()_ function.\n",
    "\n",
    "```python\n",
    "translated = translator.translate(spanishText, src='es', dest='en')\n",
    "```\n",
    "\n",
    "In the code above, we translate the text in the variable _spanishText_ from Spanish to English and store that text in the _translated_ variable.\n",
    "\n",
    "The _translate()_ function accepts three parameters:\n",
    "\n",
    "- The element being translated\n",
    "- The source language of the element (src)\n",
    "- The language to translate to (dest)\n",
    "\n",
    "If the source and destination language are not specified, the method automatically attempts to detect the language and translate it to English. Remember, when initializing the src and dest paramters, use the keys of the languages."
   ]
  },
  {
   "cell_type": "code",
   "execution_count": 8,
   "id": "deaf3316",
   "metadata": {},
   "outputs": [
    {
     "name": "stdout",
     "output_type": "stream",
     "text": [
      "Translated(src=es, dest=en, text=Hi how are you?, pronunciation=Hi how are you?, extra_data=\"{'translat...\")\n"
     ]
    }
   ],
   "source": [
    "# Translating the Spanish text to English.\n",
    "translated = translator.translate(spanishText, src='es', dest='en')\n",
    "print(translated)"
   ]
  },
  {
   "cell_type": "markdown",
   "id": "862a8ef1",
   "metadata": {},
   "source": [
    "As you can see, the output above prints a complicated output. In order to extract exactly what the programmer needs from the output, the library offers the use of _.origin_ to access the translated text in its original language and _.text_ to access the translated text alone."
   ]
  },
  {
   "cell_type": "code",
   "execution_count": 9,
   "id": "387ff8ce",
   "metadata": {},
   "outputs": [
    {
     "name": "stdout",
     "output_type": "stream",
     "text": [
      "original: ¿Hola, cómo estás?\n",
      "translated: Hi how are you?\n"
     ]
    }
   ],
   "source": [
    "print(\"original: \" + translated.origin)\n",
    "print(\"translated: \" + translated.text)"
   ]
  },
  {
   "cell_type": "markdown",
   "id": "a693005f",
   "metadata": {},
   "source": [
    "#### Exercise:\n",
    "\n",
    "Use the translate method to translate the phrase, \"名前は何?\" to Spanish. Print the original text and the translated text."
   ]
  },
  {
   "cell_type": "code",
   "execution_count": 10,
   "id": "15f6122e",
   "metadata": {},
   "outputs": [],
   "source": [
    "# Write your code here:\n"
   ]
  },
  {
   "cell_type": "code",
   "execution_count": 11,
   "id": "c9ec367e",
   "metadata": {
    "hide-input": true
   },
   "outputs": [
    {
     "name": "stdout",
     "output_type": "stream",
     "text": [
      "Original: 名前は何?\n",
      "Translated: ¿Cuál es tu nombre?\n"
     ]
    }
   ],
   "source": [
    "# Solution:\n",
    "\n",
    "exercise1 = translator.translate(\"名前は何?\", src='ja', dest = 'es')\n",
    "print(\"Original: \" + exercise1.origin)\n",
    "print(\"Translated: \" + exercise1.text)"
   ]
  },
  {
   "cell_type": "markdown",
   "id": "ec0ae0bb",
   "metadata": {},
   "source": [
    "#### Exercise:\n",
    "\n",
    "Use the translate method to translate the phrase, \"Επιτυχημένη μετάφραση!\", to English without entering the src and dest parameters and print only the translated text."
   ]
  },
  {
   "cell_type": "code",
   "execution_count": 12,
   "id": "d7692ea1",
   "metadata": {},
   "outputs": [],
   "source": [
    "# Write your code here:\n"
   ]
  },
  {
   "cell_type": "code",
   "execution_count": 13,
   "id": "05439163",
   "metadata": {
    "hide_input": true
   },
   "outputs": [
    {
     "name": "stdout",
     "output_type": "stream",
     "text": [
      "Successful translation!\n"
     ]
    }
   ],
   "source": [
    "# Solution:\n",
    "\n",
    "exercise2 = translator.translate(\"Επιτυχημένη μετάφραση!\")\n",
    "print(exercise2.text)"
   ]
  },
  {
   "cell_type": "markdown",
   "id": "ef8a4977",
   "metadata": {},
   "source": [
    "You can also translate a list using the _translate()_ method. Simply pass a list as the element being translated instead of a string or a string variable."
   ]
  },
  {
   "cell_type": "code",
   "execution_count": 14,
   "id": "29599f43",
   "metadata": {},
   "outputs": [],
   "source": [
    "# List of phrases to be translated\n",
    "languageList = ['Hello', 'Thank you', 'Bye']\n",
    "\n",
    "# Method translates the entire list and returns a list of the translated elements\n",
    "translatedList = translator.translate(languageList, dest = \"es\")"
   ]
  },
  {
   "cell_type": "markdown",
   "id": "dcc03b0a",
   "metadata": {},
   "source": [
    "Remember that after a string is translated, use _.origin_ to access the original language and _.text_ to access the translated text."
   ]
  },
  {
   "cell_type": "code",
   "execution_count": 15,
   "id": "1943ad6d",
   "metadata": {},
   "outputs": [
    {
     "name": "stdout",
     "output_type": "stream",
     "text": [
      "Hello --> Hola\n",
      "Thank you --> Gracias\n",
      "Bye --> Adiós\n"
     ]
    }
   ],
   "source": [
    "# Loops through the translatedList list and outputs the original phrase and translated phrase of each element\n",
    "for phrase in translatedList:\n",
    "    print(phrase.origin + \" --> \" + phrase.text)"
   ]
  },
  {
   "cell_type": "markdown",
   "id": "df506cdf",
   "metadata": {},
   "source": [
    "#### Exercise:\n",
    "\n",
    "Initialize a list variable with a set of words from various different languages and translate the entire list to English. You can copy these words from Google Translate. Then, iterate through the list and print both the original text and the translated text."
   ]
  },
  {
   "cell_type": "code",
   "execution_count": 16,
   "id": "0ff1645d",
   "metadata": {},
   "outputs": [],
   "source": [
    "# Write your code here:\n"
   ]
  },
  {
   "cell_type": "code",
   "execution_count": 18,
   "id": "54072ae1",
   "metadata": {
    "hide_input": true
   },
   "outputs": [
    {
     "name": "stdout",
     "output_type": "stream",
     "text": [
      "अजगर --> Python\n",
      "არის --> is\n",
      "惊人 --> amazing\n"
     ]
    }
   ],
   "source": [
    "# Solution:\n",
    "\n",
    "newLanguageList = [\"अजगर\", \"არის\", \"惊人\"]\n",
    "\n",
    "newTranslatedList = translator.translate(newLanguageList)\n",
    "for word in newTranslatedList:\n",
    "    print(word.origin + \" --> \" + word.text)"
   ]
  },
  {
   "cell_type": "markdown",
   "id": "981f9633",
   "metadata": {},
   "source": [
    "### Text to Speech Conversion:\n",
    "\n",
    "You can also use the gTTS package, a text to speech library, to pronounce your translated text or any other text as speech. To do this, you must first import the gTTS package."
   ]
  },
  {
   "cell_type": "code",
   "execution_count": 19,
   "id": "ff066122",
   "metadata": {},
   "outputs": [
    {
     "name": "stdout",
     "output_type": "stream",
     "text": [
      "Requirement already satisfied: gTTS in ./opt/anaconda3/lib/python3.9/site-packages (2.2.4)\r\n",
      "Requirement already satisfied: click in ./opt/anaconda3/lib/python3.9/site-packages (from gTTS) (8.0.4)\r\n",
      "Requirement already satisfied: six in ./opt/anaconda3/lib/python3.9/site-packages (from gTTS) (1.16.0)\r\n",
      "Requirement already satisfied: requests in ./opt/anaconda3/lib/python3.9/site-packages (from gTTS) (2.27.1)\r\n",
      "Requirement already satisfied: charset-normalizer~=2.0.0 in ./opt/anaconda3/lib/python3.9/site-packages (from requests->gTTS) (2.0.4)\r\n",
      "Requirement already satisfied: idna<4,>=2.5 in ./opt/anaconda3/lib/python3.9/site-packages (from requests->gTTS) (2.10)\r\n",
      "Requirement already satisfied: certifi>=2017.4.17 in ./opt/anaconda3/lib/python3.9/site-packages (from requests->gTTS) (2021.10.8)\r\n",
      "Requirement already satisfied: urllib3<1.27,>=1.21.1 in ./opt/anaconda3/lib/python3.9/site-packages (from requests->gTTS) (1.26.9)\r\n"
     ]
    }
   ],
   "source": [
    "!pip install gTTS"
   ]
  },
  {
   "cell_type": "markdown",
   "id": "e5196926",
   "metadata": {},
   "source": [
    "Import the necessary libraries and initialize the necessary variables for the text to speech conversion. In this case we will need the text we want to convert and the language of the text."
   ]
  },
  {
   "cell_type": "code",
   "execution_count": 23,
   "id": "22796845",
   "metadata": {},
   "outputs": [],
   "source": [
    "# Importing the needed module for text to speech\n",
    "from gtts import gTTS\n",
    "  \n",
    "# Importing the needed module for playing the converted audio\n",
    "import IPython\n",
    "  \n",
    "# The text that you want to convert to speech\n",
    "text = 'Welcome!'\n",
    "  \n",
    "# Language of the text\n",
    "language = 'en'"
   ]
  },
  {
   "cell_type": "markdown",
   "id": "6ccfba65",
   "metadata": {},
   "source": [
    "You can create a gTTS Object by initializing with the text, language, and slow parameter. The slow parameter simply signifies what speed to read the text at. In this case, we want the speech to be read fast so we initialize the slow parameter with False."
   ]
  },
  {
   "cell_type": "code",
   "execution_count": 24,
   "id": "368773e1",
   "metadata": {},
   "outputs": [],
   "source": [
    "# Passing the text and language\n",
    "# The last parameter, slow=False, tells the speaker to output the speech fast\n",
    "obj = gTTS(text=text, lang=language, slow=False)"
   ]
  },
  {
   "cell_type": "markdown",
   "id": "d4eb13af",
   "metadata": {},
   "source": [
    "Finally, you can save the object into a file named whatever you want. You can do this using either the file path or this shortcut which saves it to your working directory. Then, using the os.system method, you can play the file."
   ]
  },
  {
   "cell_type": "code",
   "execution_count": 27,
   "id": "cd0d66f0",
   "metadata": {},
   "outputs": [
    {
     "data": {
      "text/html": [
       "\n",
       "                <audio  controls=\"controls\" >\n",
       "                    <source src=\"data:audio/mpeg;base64,//NExAARsEn8AHsGJCEKVFF9K88AJsCGeGDhgCsosHAWBMVA61v8Tg5iAMdYOBjuy5oQAgGIIAhSJAQ4IcojE5RTv5fUcIfwQBAMFAfB8H3wQDBBHVjqCMdMHJluASuD//NExAwSYJowAM4GTEo1gh0MBkGQoRqkmeVo7FnXfyrfAwgghaE5pTrhzDAfa6AyAfAlZCJyCktz/CPBdHa7cFgBT3RYAbPpZ2jVgZAC9YqHmBvR/3MVrBjJaY6JmNGR//NExBUXQNpcAN4GcK4bLlYsWcMjjgBjLvRss+pe79SXxN+5RbzqXZ/jWKb2VyOElzCDMFXhcOb7Qws0QSscimUoFjniqdVQfn3NdX1OOcomnyk/6yEDLgibNQYGzuQ5//NExAsUYJJoAObSTCYABgLMDgkybaOpAg4BjhbUwg8GiVy2aOum6X61FAdHuvjTKO4pHgMAoq5K1xMHwbVR6TXjX0JHMOl9jiDnq/0/3o+j6tqlicJzeIQB04sMkqTC//NExAwUoJp0AObeTGHzCYCM5qj55MxMIRFXcDQwyIAe2moWZmenZEVAGClVxzE0Mg/2Vfc6ZlgvMir4k9bEqtwicFP9QnPimisdKf////1ghIalledSJkAELYi1GCSy//NExAwUqR6YAN5WcAE4OCHgzdPBSm6zGv09EWoH04LfihTuEKpyHJcSyGYKgEAs2NSDBHM63y++n3/fXbKr6ZT5g0NGhoH/7micVe79VX////9K538WjG+y81WMrJMb//NExAwVISqoAM5kcNCRJf3tKYFIO7ZHFoaFRILmL0PNeLklATtYx8RAgIoT6brKgqYzCLomhFycapOuy1NSsm9aBfN3cul4nzcd/QKhcFAfebZ/YTrD/1Np8jS73cl4//NExAoT+Tq0AMYecJouhHaxmomb+BJ6TGSJpIB3Hl9LDSISGa18pTFBGTWfRFKX1AoXH37xY+751bXzWu6Y+K7p9Ytq+tSXeVN/7oKhAWS7xdOp+tzEDj5cD2OSqfMd//NExA0U2U6sAM5GlAVot3H9Ahp2+AMSM5VmiosA4d17sNS4QkMjhdSJhYMt8yWL7/ctlVjuWxIanxUc7/5eXnTqOzMBBw5pPCoeuoii1+ldTf1K7z/0+J2RSc/UEiK4//NExAwSca6sAMaElC8UucNO0u0x0MMR2t4Q0voOHt5O4RxDJJqBMv1Koal///6wz/3brf//1ZOUKJcjUKQ7vWdT1KRRZsCq//aqsc/Cu4BnqDzEvp45TuSelrzENGiQ//NExBUR8bqgAM0ElGFeBCHA35IhDJZwngSEgslLKjSQ0gJ7pLQ/S+r////zeWDI26huVDDtuoIRBWj/YxCHLs+YbuMLAs8eM0l2JUrTzopFfEVJE3LwQEQNgHFhOmLk//NExCASWaKYANUElPBqJDTcrsyZdoJ9L9H/////t3Ryl1pv1GpGB0LkH7d2LCx3b//+CDqTVZ6G8rsAEiRYjTZZUrtZAiS3q1VyVKWwOjoOy6soY+rQanyZOw9DOzs9//NExCkRqcaMAMMElNkzM5X///9Pq8qU0L/X5dBJkHqasOp////2bDSBKhACBSiYsvylUWAzYhDnZo5JoFgZAi49Y5SqBKRoYHQyNMAkMiVUlIg1MkFTuGoK+RytFS3W//NExDUSmJJgAMsSTAaiX/lSIKwWKiJBFT////GHg0SPQ7U78gCoaZEBlto3okDV+rKcRk31JVnS6voFCQKkQKWC4sgXJPv3DCTgk0qRbLm3oO0tnbFtc/v42nn0VnSL//NExD0SWEogAVsYAPUhJxKp3lwgrLPdsSqWYwXMxWM59kidTtjpf9Lhiao7bZYXQq4tHDG24yRoC4DQMQYQeQgm2IcJ2A5w4xyDAAFCOgOYy/HkF4LHRHuTSTJyJCT///NExEYhcyqUAZhoAJqks6kxoXVoHnNEP+gtk00Tdk0mZdRSJqP/5fc+XGM3ZN2mxLIn01mqd///6CkKDG5qPd6kOpmLxk59jYtWdLK7qK1CSD8SbPKuyXk8UDmx2pjw//NExBMQyN6kAc9AADWfbDVc7p2tolSaMD6xYaQWEOagvbE4anhghBkq48Rcy//pbYkZoYlrf////fcl9FWVUuo4BQAFqyWw6ozWaojUmZgRR4JF5XUQlsegXcbf+HqW//NExCIUaQ6gAM4YcK2H0itb+mDajSqCbRcEQQF83jbmfm82vLkP3oiSOnjgYSZ//Q0yHqO9kz/////oQpizaFAjcJZrbTLNV01xGhoMA7QD3O7PjIxKTBoghIWLDUWn//NExCMYKZagAM4QlB24cb1ljBH7kLLHdfqPsWUOaaw6RSyzKsp65mpUNSUK9jiTIJIEYcB0lgsIpx9p/////Pd9cSPE6f6FN+5V1jQCiZtLc0XNVql7KDEQDQiEkncA//NExBUVUY6gANPKlDQBWaxHwjRYYCfKgymw5BWi4pMQsQ5+h4cYQoTEmpyMapm0+3mmSsxmIiiKkNR1ESigGHigiFFF0Otv/+SzDmpVr2oyLRIw2lgwd0900DJAM7GH//NExBISGO6cAM4WcEwgbm22yhEXdopElbFZK1JXOWSBisVxR8DwJ1D0STqbnb3NlzWy74a1Wzu4SkQkDoU/YMC4CWqcvyo7sYFgsE8kQ7X0EhutjQl9N2HquSxWrSKk//NExBwR4YKQAM4ElEHYrkna/MVtAg7QbsNw1dsPRLeV//eHfzs7QQ9Q1AZAZzdtfSpf/ypQpCCan56AzxwF7OmYSmNU3Vc84Yp0YlBzneUOZ5ObzdOuTigwh7KLaRkr//NExCcSgX6EANPKlCHfFpB38f9svrAnkFo0AjGDobQurZt7DG/75CsQXKO7C9XphEKXYcMOrdYcCiwOYmgoyjzq7sqVSi1SGa3WCCpuK6UfO3WCCey+hfiy2c9Lar84//NExDAR8XqAANsElFOcMZQ4kxwIUXT3nme7f/Q0oYWWOjsySojHRCIHIkaNT2mTtyCaXoCwxxlimDR1k/ZefCi8GF+pY92Cn0H70A8mxI2NGXQyHnm5ez0Qix5NWNEV//NExDsRKPZ4ANvQcJ9QFB6cfeUVd1WkgwdRmXqO2u0CNSYY7wqRHlMamGz58RNvBYO6rcoL4tRde0Kpds81KXjD5e66KUhQqUt37GVm/+qFYxRycb+1nmsqRfakIA5///NExEkQmXp0ANJElZe0BpZal14QDBLKZmAZFzypJAGmoNS+qrbIbDtFgyIWUbmsvL34p5VQ4iHJgOZByP0Kcw1v/+5nQTFWBRqAu9XoLgPiQgHaImk4BklMvXiuYv06//NExFkRwX5wANJKlEwlfssKHt3dZUiGYgAYGiFEAYVFiJ9TqU6yUtl/XxNzTZg65zw2wgE/486JQCLCw1weEAuMajf/RQuY3uNoCAYQl9q8Sgt+nRZaUFSJqkRYEnxQ//NExGUSqPZgAMpScKH3GYVHQsTNBEASFq2Z//M84dGCxRR8NCIt/Kyp0KhMJPCoSEQlS0OCL/ySPE46TEFNRTMuMTAwqqqqqqqqqqqqqqqqqqqqqqqqqqqqTEFNRTMu//NExG0RaPo8AMJKcDEwMKqqqqqqqqqqqqqqqqqqqqqqqqqqqqqqqqqqqqqqqqqqqqqqqqqqqqqqqqqqqqqqqqqqqqqqqqqqqqqqqqqqqqqqqqqqqqqqqqqqTEFNRTMu//NExHoAoAQAANgAADEwMKqqqqqqqqqqqqqqqqqqqqqqqqqqqqqqqqqqqqqqqqqqqqqqqqqqqqqqqqqqqqqqqqqqqqqqqqqqqqqqqqqqqqqqqqqqqqqqqqqqTEFNRTMu//NExKwAAANIAAAAADEwMKqqqqqqqqqqqqqqqqqqqqqqqqqqqqqqqqqqqqqqqqqqqqqqqqqqqqqqqqqqqqqqqqqqqqqqqqqqqqqqqqqqqqqqqqqqqqqqqqqqTEFNRTMu//NExKwAAANIAAAAADEwMKqqqqqqqqqqqqqqqqqqqqqqqqqqqqqqqqqqqqqqqqqqqqqqqqqqqqqqqqqqqqqqqqqqqqqqqqqqqqqqqqqqqqqqqqqqqqqqqqqqTEFNRTMu//NExKwAAANIAAAAADEwMKqqqqqqqqqqqqqqqqqqqqqqqqqqqqqqqqqqqqqqqqqqqqqqqqqqqqqqqqqqqqqqqqqqqqqqqqqqqqqqqqqqqqqqqqqqqqqqqqqqTEFNRTMu//NExKwAAANIAAAAADEwMKqqqqqqqqqqqqqqqqqqqqqqqqqqqqqqqqqqqqqqqqqqqqqqqqqqqqqqqqqqqqqqqqqqqqqqqqqqqqqqqqqqqqqqqqqqqqqqqqqqBAUIGMtd//NExKwAAANIAAAAABk4oFAoCgIBgUCgkCyZNO98QTJkyZMmTJ3ERGf/xEREREXd2eTJk0yBCIhE/RERERBbu7u///8R3d3AwMW4hERProiIiIiO/6IiO7u7v+7u7u7i//NExKwAAANIAAAAAAAAAD///wAAAAAA8PH/mHh4ePpUUgiCIIgiCIpFJETImpe4oQICAgICAgICAgESql7MqqqqqqzMzMzNVL/jKqqoCAgICBAQEKZmb////9mZlVS///NExKwAAANIAAAAAGZVUKAgICJCszN+qszMzM38ZmZgwUSqqql/VVVVWP/+xv/1ZmZmZgygoKC1TEFNRTMuMTAwVVVVVVVVVVVVVVVVVVVVVVVVVVVVVVVVTEFNRTMu//NExP8a4mnUAEmGuTEwMFVVVVVVVVVVVVVVVVVVVVVVVVVVVVVVVVVVVVVVVVVVVVVVVVVVVVVVVVVVVVVVVVVVVVVVVVVVVVVVVVVVVVVVVVVVVVVVVVVVVVVVVVVV//NExOYa2vnYAEjGuVVVVVVVVVVVVVVVVVVVVVVVVVVVVVVVVVVVVVVVVVVVVVVVVVVVVVVVVVVVVVVVVVVVVVVVVVVVVVVVVVVVVVVVVVVVVVVVVVVVVVVVVVVVVVVV//NExKwAAANIAAAAAFVVVVVVVVVVVVVVVVVVVVVVVVVVVVVVVVVVVVVVVVVVVVVVVVVVVVVVVVVVVVVVVVVVVVVVVVVVVVVVVVVVVVVVVVVVVVVVVVVVVVVVVVVVVVVV\" type=\"audio/mpeg\" />\n",
       "                    Your browser does not support the audio element.\n",
       "                </audio>\n",
       "              "
      ],
      "text/plain": [
       "<IPython.lib.display.Audio object>"
      ]
     },
     "execution_count": 27,
     "metadata": {},
     "output_type": "execute_result"
    }
   ],
   "source": [
    "# Saving the converted audio in an mp3 file named welcome\n",
    "obj.save(\"welcome.mp3\")\n",
    "\n",
    "# Playing the audio file\n",
    "IPython.display.Audio(\"welcome.mp3\")"
   ]
  }
 ],
 "metadata": {
  "celltoolbar": "Edit Metadata",
  "kernelspec": {
   "display_name": "Python 3 (ipykernel)",
   "language": "python",
   "name": "python3"
  },
  "language_info": {
   "codemirror_mode": {
    "name": "ipython",
    "version": 3
   },
   "file_extension": ".py",
   "mimetype": "text/x-python",
   "name": "python",
   "nbconvert_exporter": "python",
   "pygments_lexer": "ipython3",
   "version": "3.9.12"
  }
 },
 "nbformat": 4,
 "nbformat_minor": 5
}
